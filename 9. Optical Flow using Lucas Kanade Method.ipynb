{
 "cells": [
  {
   "cell_type": "code",
   "execution_count": 25,
   "id": "62acc7ce",
   "metadata": {},
   "outputs": [],
   "source": [
    "import cv2 \n",
    "import numpy as np\n",
    "import matplotlib.pyplot as plt"
   ]
  },
  {
   "cell_type": "code",
   "execution_count": 26,
   "id": "6b50f5b6",
   "metadata": {},
   "outputs": [],
   "source": [
    "#https://docs.opencv.org/3.4/dd/d1a/group__imgproc__feature.html#ga1d6bb77486c8f92d79c8793ad995d541\n",
    "\n",
    "def get_features(gray_image):\n",
    "    \"Detecting features(corners) using Shi-Thomasi Corner Detectors\"\n",
    "    points = cv2.goodFeaturesToTrack(gray_image, mask=None, maxCorners=100,\n",
    "                                     qualityLevel=0.1, minDistance=10, blockSize=5)\n",
    "    return points"
   ]
  },
  {
   "cell_type": "code",
   "execution_count": 27,
   "id": "13e6a4a1",
   "metadata": {},
   "outputs": [],
   "source": [
    "#https://docs.opencv.org/3.4/dc/d6b/group__video__track.html#ga473e4b886d0bcc6b65831eb88ed93323\n",
    "\n",
    "def LK_model(gray_t_1, gray_t, points_t_1):\n",
    "    \"Detecting Optical Flow using Lucas Kanade Sparse Optical FLow method\"\n",
    "    points, status, error = cv2.calcOpticalFlowPyrLK(gray_t_1,gray_t,points_t_1,None,\n",
    "                                                    winSize=(10,10),maxLevel=2, flags=10, minEigThreshold=0.03)\n",
    "    return points, status, error"
   ]
  },
  {
   "cell_type": "code",
   "execution_count": 31,
   "id": "6eb15c73",
   "metadata": {},
   "outputs": [
    {
     "name": "stdout",
     "output_type": "stream",
     "text": [
      "Frames per second :  30.0 FPS\n",
      "Frame count :  400.0\n",
      "Shape of the image (640, 360)\n"
     ]
    }
   ],
   "source": [
    "video = cv2.VideoCapture(\"Optical_Flow/traffic_1639723780.mp4\")\n",
    "\n",
    "#checking fps\n",
    "fps = video.get(5)\n",
    "print('Frames per second : ', fps,'FPS')\n",
    "\n",
    "#checking total number of frames\n",
    "frame_count = video.get(7)\n",
    "print('Frame count : ', frame_count)\n",
    "\n",
    "#obtaining frame size information\n",
    "frame_width = int(video.get(3))\n",
    "frame_height = int(video.get(4))\n",
    "frame_size = (frame_width,frame_height)\n",
    "print(\"Shape of the image\",frame_size)\n",
    "\n",
    "#Reading first_frame\n",
    "ret, prev_frame = video.read()\n",
    "\n",
    "#covnerting to gray image and finding the keypoints\n",
    "prev_gray_frame = cv2.cvtColor(prev_frame, cv2.COLOR_BGR2GRAY)\n",
    "prev_points = get_features(prev_gray_frame)\n",
    "mask_image = np.zeros_like(prev_gray_frame)\n",
    "\n",
    "#coloring the flow lines\n",
    "color = np.random.randint(0,255,(100,3))\n",
    "\n",
    "#writing optical flow images into a video file\n",
    "output = cv2.VideoWriter('Optical_Flow/optical_flow.avi',cv2.VideoWriter_fourcc('M','J','P','G'), fps, frame_size)\n",
    "\n",
    "while(video.isOpened()):\n",
    "    ret, current_frame = video.read()\n",
    "    if ret == True:\n",
    "        current_gray_frame = cv2.cvtColor(current_frame, cv2.COLOR_BGR2GRAY)\n",
    "        current_points, status, error = LK_model(prev_gray_frame, current_gray_frame, prev_points)\n",
    "        \n",
    "        if current_points is not None:\n",
    "            current_points = current_points[status==1]\n",
    "            old_points = prev_points[status==1]\n",
    "        \n",
    "        for i,(current,prev) in enumerate(zip(current_points, old_points)):\n",
    "            a,b = current.ravel()\n",
    "            c,d = prev.ravel()\n",
    "            mask_image = cv2.line(mask_image, (int(a), int(b)), (int(c), int(d)), color[i].tolist(), 2)\n",
    "            current_frame = cv2.circle(current_frame,(int(a),int(b)), 5, color[i].tolist(), -1)\n",
    "        out = cv2.add(current_frame, mask_image)\n",
    "        output.write(out)\n",
    "        cv2.imshow(\"Frame\",out)\n",
    "        k = cv2.waitKey(20)\n",
    "        if k ==27:\n",
    "            break\n",
    "        \n",
    "        #setting the current frame as previous frame for next iteration\n",
    "        prev_gray_frame = current_gray_frame.copy()\n",
    "        prev_points = current_points.reshape(-1,1,2)\n",
    "    else:\n",
    "        break\n",
    "    \n",
    "video.release()\n",
    "cv2.destroyAllWindows()"
   ]
  }
 ],
 "metadata": {
  "kernelspec": {
   "display_name": "Python 3",
   "language": "python",
   "name": "python3"
  },
  "language_info": {
   "codemirror_mode": {
    "name": "ipython",
    "version": 3
   },
   "file_extension": ".py",
   "mimetype": "text/x-python",
   "name": "python",
   "nbconvert_exporter": "python",
   "pygments_lexer": "ipython3",
   "version": "3.8.8"
  }
 },
 "nbformat": 4,
 "nbformat_minor": 5
}
